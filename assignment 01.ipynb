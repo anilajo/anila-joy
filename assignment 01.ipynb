{
 "cells": [
  {
   "cell_type": "markdown",
   "id": "a8d78f59",
   "metadata": {},
   "source": [
    "# Assignment 01"
   ]
  },
  {
   "cell_type": "markdown",
   "id": "38666b04",
   "metadata": {},
   "source": [
    "# Question 1"
   ]
  },
  {
   "cell_type": "code",
   "execution_count": 1,
   "id": "83bc3d75",
   "metadata": {},
   "outputs": [
    {
     "name": "stdout",
     "output_type": "stream",
     "text": [
      "enter the name=Anisha\n"
     ]
    }
   ],
   "source": [
    "name=input('enter the name=')"
   ]
  },
  {
   "cell_type": "code",
   "execution_count": 2,
   "id": "09958dea",
   "metadata": {},
   "outputs": [
    {
     "name": "stdout",
     "output_type": "stream",
     "text": [
      "enter the roll number=21\n"
     ]
    }
   ],
   "source": [
    "rollnumber =input('enter the roll number=')"
   ]
  },
  {
   "cell_type": "code",
   "execution_count": 3,
   "id": "a4a71b6a",
   "metadata": {},
   "outputs": [
    {
     "name": "stdout",
     "output_type": "stream",
     "text": [
      "enter the mark=78\n"
     ]
    }
   ],
   "source": [
    "mark=input('enter the mark=')"
   ]
  },
  {
   "cell_type": "code",
   "execution_count": 7,
   "id": "c32f5239",
   "metadata": {},
   "outputs": [
    {
     "name": "stdout",
     "output_type": "stream",
     "text": [
      "name: Anisha\n",
      "roll number: 21\n",
      "mark: 78\n"
     ]
    }
   ],
   "source": [
    "print('name:',name)\n",
    "print ('roll number:',rollnumber)\n",
    "print('mark:',mark)"
   ]
  },
  {
   "cell_type": "markdown",
   "id": "949c643d",
   "metadata": {},
   "source": [
    "## Question 2"
   ]
  },
  {
   "cell_type": "code",
   "execution_count": 219,
   "id": "7c65ba76",
   "metadata": {},
   "outputs": [],
   "source": [
    "c=5\n",
    "f=-32/9\n"
   ]
  },
  {
   "cell_type": "code",
   "execution_count": 220,
   "id": "aca209be",
   "metadata": {},
   "outputs": [],
   "source": [
    "c=(f-32)*5/9"
   ]
  },
  {
   "cell_type": "code",
   "execution_count": 221,
   "id": "15df7f8f",
   "metadata": {},
   "outputs": [
    {
     "name": "stdout",
     "output_type": "stream",
     "text": [
      "c5\n",
      "5\n"
     ]
    }
   ],
   "source": [
    "print(input('c'))"
   ]
  },
  {
   "cell_type": "code",
   "execution_count": 222,
   "id": "704be927",
   "metadata": {},
   "outputs": [],
   "source": [
    "c=5\n",
    "f=32/9\n"
   ]
  },
  {
   "cell_type": "code",
   "execution_count": 223,
   "id": "61738921",
   "metadata": {},
   "outputs": [],
   "source": [
    "f=(c*9/5)+32\n"
   ]
  },
  {
   "cell_type": "code",
   "execution_count": 224,
   "id": "803ad088",
   "metadata": {},
   "outputs": [
    {
     "name": "stdout",
     "output_type": "stream",
     "text": [
      "41.041\n",
      "41\n"
     ]
    }
   ],
   "source": [
    "print (input(f))"
   ]
  },
  {
   "cell_type": "markdown",
   "id": "f37aa70d",
   "metadata": {},
   "source": [
    "# Question 3 "
   ]
  },
  {
   "cell_type": "code",
   "execution_count": 41,
   "id": "d731381c",
   "metadata": {},
   "outputs": [
    {
     "name": "stdout",
     "output_type": "stream",
     "text": [
      "first number=2\n",
      "second number=3\n",
      "product= 6\n"
     ]
    }
   ],
   "source": [
    "a=input('first number=')\n",
    "b=input('second number=')\n",
    "product=int(a)*int(b)\n",
    "print('product=', product)"
   ]
  },
  {
   "cell_type": "markdown",
   "id": "7946312d",
   "metadata": {},
   "source": [
    "# Question 4"
   ]
  },
  {
   "cell_type": "code",
   "execution_count": 148,
   "id": "ca1483b0",
   "metadata": {},
   "outputs": [
    {
     "name": "stdout",
     "output_type": "stream",
     "text": [
      "enter the sentencelearn python by developing a website\n",
      "learn python by developing a websitelearn **python** by developing a **website**\n"
     ]
    }
   ],
   "source": [
    "string=input('enter the sentence')\n",
    "string1=string.replace('python','**python**')\n",
    "string2=string1.replace('website','**website**')\n",
    "print(string + string2)"
   ]
  },
  {
   "cell_type": "markdown",
   "id": "d43b748c",
   "metadata": {},
   "source": [
    "# Question 5"
   ]
  },
  {
   "cell_type": "code",
   "execution_count": 82,
   "id": "47c74e0b",
   "metadata": {},
   "outputs": [
    {
     "name": "stdout",
     "output_type": "stream",
     "text": [
      "enter the radius5\n",
      "78.5\n"
     ]
    }
   ],
   "source": [
    "r=float(input('enter the radius'))\n",
    "area=3.14*r*r\n",
    "print(area)"
   ]
  },
  {
   "cell_type": "markdown",
   "id": "7126031d",
   "metadata": {},
   "source": [
    "# Question 6"
   ]
  },
  {
   "cell_type": "code",
   "execution_count": 83,
   "id": "a99af744",
   "metadata": {},
   "outputs": [
    {
     "name": "stdout",
     "output_type": "stream",
     "text": [
      "enter a number to insert in list :6\n",
      "enter a intex to insert value:5\n",
      "array after inserting 6 = [1, 2, 3, 4, 5, 6]\n"
     ]
    }
   ],
   "source": [
    "list=[1,2,3,4,5]\n",
    "num=int(input('enter a number to insert in list :'))\n",
    "index=int(input('enter a intex to insert value:'))\n",
    "list.insert(index,num)\n",
    "print('array after inserting',num,'=', list)"
   ]
  },
  {
   "cell_type": "markdown",
   "id": "0958d57e",
   "metadata": {},
   "source": [
    "# Question 7"
   ]
  },
  {
   "cell_type": "code",
   "execution_count": 91,
   "id": "f6430a0c",
   "metadata": {
    "scrolled": true
   },
   "outputs": [
    {
     "name": "stdout",
     "output_type": "stream",
     "text": [
      "initial dictionary {'name': 'john', 'age': 5, 'salary': 8000, 'city': 'new york'}\n",
      "final dictionary {'name': 'john', 'age': 5, 'salary': 8000, 'location': 'new york'}\n"
     ]
    }
   ],
   "source": [
    "sample_dict= {'name':'john','age':5,'salary':8000,'city':'new york'}\n",
    "print('initial dictionary',sample_dict)\n",
    "sample_dict['location']=sample_dict['city']\n",
    "del sample_dict['city']\n",
    "print('final dictionary',sample_dict)"
   ]
  },
  {
   "cell_type": "markdown",
   "id": "d76a4174",
   "metadata": {},
   "source": [
    "# Question 8"
   ]
  },
  {
   "cell_type": "code",
   "execution_count": 194,
   "id": "408685a7",
   "metadata": {},
   "outputs": [
    {
     "data": {
      "text/plain": [
       "{'emp1': {'name': 'john', 'salary': 7500},\n",
       " 'emp2': {'name': 'emma', 'salary': 8000},\n",
       " 'emp3': {'name': 'brad', 'salary': 8500}}"
      ]
     },
     "execution_count": 194,
     "metadata": {},
     "output_type": "execute_result"
    }
   ],
   "source": [
    "sample_dict={'emp1':{'name':'john','salary':7500},\n",
    "             'emp2':{'name':'emma','salary':8000},\n",
    "             'emp3':{ 'name':'brad','salary':500}}\n",
    "sample_dict['emp3']['salary']=8500\n",
    "sample_dict\n"
   ]
  },
  {
   "cell_type": "markdown",
   "id": "051cea8d",
   "metadata": {},
   "source": [
    "# Question 9"
   ]
  },
  {
   "cell_type": "code",
   "execution_count": 92,
   "id": "eaa6237c",
   "metadata": {},
   "outputs": [
    {
     "name": "stdout",
     "output_type": "stream",
     "text": [
      "(43, 54)\n"
     ]
    }
   ],
   "source": [
    "tuple1=(10,20,43,54,56,68)\n",
    "tuple2=tuple1[2:4]\n",
    "print(tuple2)"
   ]
  },
  {
   "cell_type": "markdown",
   "id": "0edb7a19",
   "metadata": {},
   "source": [
    "# question 10"
   ]
  },
  {
   "cell_type": "code",
   "execution_count": 93,
   "id": "51a30f57",
   "metadata": {},
   "outputs": [
    {
     "name": "stdout",
     "output_type": "stream",
     "text": [
      "3\n"
     ]
    }
   ],
   "source": [
    "tuple=( 50,10,60,70,50,83,567,50,81)\n",
    "print(tuple.count(50))"
   ]
  },
  {
   "cell_type": "code",
   "execution_count": null,
   "id": "110b4152",
   "metadata": {},
   "outputs": [],
   "source": []
  }
 ],
 "metadata": {
  "kernelspec": {
   "display_name": "Python 3 (ipykernel)",
   "language": "python",
   "name": "python3"
  },
  "language_info": {
   "codemirror_mode": {
    "name": "ipython",
    "version": 3
   },
   "file_extension": ".py",
   "mimetype": "text/x-python",
   "name": "python",
   "nbconvert_exporter": "python",
   "pygments_lexer": "ipython3",
   "version": "3.9.13"
  }
 },
 "nbformat": 4,
 "nbformat_minor": 5
}
