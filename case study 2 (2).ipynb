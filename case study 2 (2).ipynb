{
 "cells": [
  {
   "cell_type": "markdown",
   "id": "af446b41",
   "metadata": {},
   "source": [
    "# QUESTION NO.1"
   ]
  },
  {
   "cell_type": "raw",
   "id": "1280f67b",
   "metadata": {},
   "source": [
    "Write a Python function to sum all the numbers in a list. (Create a list and \n",
    "get list elements from user"
   ]
  },
  {
   "cell_type": "code",
   "execution_count": 3,
   "id": "c94f9de5",
   "metadata": {},
   "outputs": [
    {
     "name": "stdout",
     "output_type": "stream",
     "text": [
      "Enter the number of elements you want to add to the list: 0\n",
      "Sum of all elements in the list is: 0\n"
     ]
    }
   ],
   "source": [
    "def sum_list(numbers):\n",
    "    total = 0\n",
    "    for num in numbers:\n",
    "        total += num\n",
    "    return total\n",
    "\n",
    "input_list = []\n",
    "num_elements = int(input(\"Enter the number of elements you want to add to the list: \"))\n",
    "\n",
    "for i in range(num_elements):\n",
    "    ele = int(input(\"Enter an element: \"))\n",
    "    input_list.append(ele)\n",
    "\n",
    "result = sum_list(input_list)\n",
    "print(\"Sum of all elements in the list is:\", result)\n"
   ]
  },
  {
   "cell_type": "markdown",
   "id": "c5cac732",
   "metadata": {},
   "source": [
    "# QUESTION NO.2"
   ]
  },
  {
   "cell_type": "markdown",
   "id": "cbd1edd8",
   "metadata": {},
   "source": [
    "Write a Python function that checks whether a \n",
    "passed string is \n",
    "palindrome or not.\n"
   ]
  },
  {
   "cell_type": "code",
   "execution_count": 134,
   "id": "dd2e2e87",
   "metadata": {
    "scrolled": true
   },
   "outputs": [
    {
     "data": {
      "text/plain": [
       "False"
      ]
     },
     "execution_count": 134,
     "metadata": {},
     "output_type": "execute_result"
    }
   ],
   "source": [
    "def is_palindrome(string):\n",
    "    # Remove any non-alphanumeric characters from the string and convert to lowercase\n",
    "    string = ''.join(e for e in string if e.isalnum()).lower()\n",
    "    # Check if the string is the same forwards and backwards\n",
    "    return string == string[::-1]\n",
    "   \n",
    "is_palindrome('racecar')\n",
    "True\n",
    "is_palindrome(\"A man, a plan, a canal, Panama!\")\n",
    "True\n",
    "is_palindrome(\"Hello, world!\")\n",
    "False    \n",
    "\n"
   ]
  },
  {
   "cell_type": "markdown",
   "id": "3f0ca370",
   "metadata": {},
   "source": [
    "# QUESTION NO. 3"
   ]
  },
  {
   "cell_type": "code",
   "execution_count": null,
   "id": "50779fc6",
   "metadata": {},
   "outputs": [],
   "source": [
    "Write a Python recursive function to find the Fibonacci series. Get the limit \n",
    "from the user"
   ]
  },
  {
   "cell_type": "code",
   "execution_count": 24,
   "id": "a5c78835",
   "metadata": {},
   "outputs": [
    {
     "name": "stdout",
     "output_type": "stream",
     "text": [
      "enter the limit for the fibonacci series3\n",
      "[0, 1, 1]\n"
     ]
    }
   ],
   "source": [
    "def fibonacci(limit):\n",
    "    if limit <= 1:\n",
    "        return [0]\n",
    "    elif limit == 2:\n",
    "        return [0, 1]\n",
    "    else:\n",
    "        sequence = fibonacci(limit-1)\n",
    "        sequence.append(sequence[-1] + sequence[-2])\n",
    "        return sequence\n",
    "limit = int(input('enter the limit for the fibonacci series'))\n",
    "series = fibonacci(limit)\n",
    "print(series)\n"
   ]
  },
  {
   "cell_type": "markdown",
   "id": "be85f65f",
   "metadata": {},
   "source": [
    "# QUESTION NO. 4"
   ]
  },
  {
   "cell_type": "code",
   "execution_count": null,
   "id": "6088021b",
   "metadata": {},
   "outputs": [],
   "source": [
    "Write a Python recursive function to print the multiplication table of \n",
    "given number\n"
   ]
  },
  {
   "cell_type": "code",
   "execution_count": 25,
   "id": "cc491ca5",
   "metadata": {},
   "outputs": [
    {
     "name": "stdout",
     "output_type": "stream",
     "text": [
      "7 x 1 = 7\n",
      "7 x 2 = 14\n",
      "7 x 3 = 21\n",
      "7 x 4 = 28\n",
      "7 x 5 = 35\n",
      "7 x 6 = 42\n",
      "7 x 7 = 49\n",
      "7 x 8 = 56\n",
      "7 x 9 = 63\n",
      "7 x 10 = 70\n"
     ]
    }
   ],
   "source": [
    "def print_multiplication_table(number, current=1):\n",
    "    if current > 10:\n",
    "        return\n",
    "    print(f\"{number} x {current} = {number * current}\")\n",
    "    print_multiplication_table(number, current + 1)\n",
    "\n",
    "print_multiplication_table(7)"
   ]
  },
  {
   "cell_type": "markdown",
   "id": "4e893bb2",
   "metadata": {},
   "source": [
    "# QUESTION NO. 5"
   ]
  },
  {
   "cell_type": "code",
   "execution_count": null,
   "id": "d76a711a",
   "metadata": {},
   "outputs": [],
   "source": [
    "Define a function which counts vowels\n",
    "and consonant in a words"
   ]
  },
  {
   "cell_type": "code",
   "execution_count": 179,
   "id": "9dd7c7de",
   "metadata": {},
   "outputs": [
    {
     "name": "stdout",
     "output_type": "stream",
     "text": [
      "the word{}vowels and {}consonants.format(word ,vowels,consonants)\n"
     ]
    }
   ],
   "source": [
    "def count_vowels_and_consonants(word):\n",
    "    vowels = 0\n",
    "    consonants = 0\n",
    "    \n",
    "    # Convert the word to lowercase to make it easier to count vowels and consonants\n",
    "    word = word.lower()\n",
    "    \n",
    "    # Loop through each character in the word\n",
    "    for char in word:\n",
    "        if char in 'aeiou':\n",
    "            vowels += 1\n",
    "        elif char.isalpha():\n",
    "            consonants += 1\n",
    "    \n",
    "    return (vowels,consonants)\n",
    "word ='hello'\n",
    "\n",
    "print('the word'\"{}\" 'vowels and {}consonants.''format(word ,vowels,consonants)')\n",
    " "
   ]
  },
  {
   "cell_type": "markdown",
   "id": "cf5ec9e6",
   "metadata": {},
   "source": [
    "# QUESTION NO. 6"
   ]
  },
  {
   "cell_type": "code",
   "execution_count": null,
   "id": "dae1ab61",
   "metadata": {},
   "outputs": [],
   "source": [
    "Define a function that accepts lowercase\n",
    "words and returns uppercase \n",
    "words.\n"
   ]
  },
  {
   "cell_type": "code",
   "execution_count": null,
   "id": "e7cdcb73",
   "metadata": {},
   "outputs": [],
   "source": [
    "def uppercase_word(word):\n",
    "    return word.upper()\n",
    "word = 'hello'\n",
    "uppercase = uppercase_word(word)\n",
    "print (\"the uppercase word of'{}' is '{}'.\".format(word,uppercase))\n",
    " the_uppercase_word_of ('hello') is ('HELLO')"
   ]
  },
  {
   "cell_type": "markdown",
   "id": "08aeba86",
   "metadata": {},
   "source": [
    "# QUESTION NO. 7"
   ]
  },
  {
   "cell_type": "code",
   "execution_count": null,
   "id": "e1762950",
   "metadata": {},
   "outputs": [],
   "source": [
    "Write a Python program to remove ‘None’ values from a given list using \n",
    "the lambda function."
   ]
  },
  {
   "cell_type": "code",
   "execution_count": 35,
   "id": "c76f4aa7",
   "metadata": {},
   "outputs": [
    {
     "name": "stdout",
     "output_type": "stream",
     "text": [
      "[12, 0, 23, -55, 234, 89, 0, 6, -12]\n"
     ]
    }
   ],
   "source": [
    "input_list = [12, 0, None, 23, None, -55, 234, 89, None, 0, 6, -12]\n",
    "\n",
    "# Use lambda function to filter out None values from input_list\n",
    "output_list = list(filter(lambda x: x is not None, input_list))\n",
    "\n",
    "print(output_list)\n"
   ]
  },
  {
   "cell_type": "markdown",
   "id": "29d31f1d",
   "metadata": {},
   "source": [
    "# QUESTION NO. 8"
   ]
  },
  {
   "cell_type": "markdown",
   "id": "b880004a",
   "metadata": {},
   "source": [
    " Write a Rectangle class in Python language, allowing you to build a \n",
    "rectangle with length and width attributes.\n",
    "\n",
    "a. Create a Perimeter() method to calculate the perimeter of the \n",
    "rectangle and a Area() method to calculate the area of the rectangle.\n",
    "\n",
    "b. Create a method display() that display the length, width, perimeter \n",
    "and area of an object created using an instantiation on rectangle \n",
    "class.\n",
    "\n",
    "c. Create a Parallelepiped child class inheriting from the Rectangle \n",
    "class and with a height attribute and another Volume() method to \n",
    "calculate the volume of the Parallelepiped"
   ]
  },
  {
   "cell_type": "code",
   "execution_count": 58,
   "id": "034a3495",
   "metadata": {},
   "outputs": [
    {
     "name": "stdout",
     "output_type": "stream",
     "text": [
      "Length: 5\n",
      "Width: 3\n",
      "Perimeter: 16\n",
      "Area: 15\n",
      "Length: 5\n",
      "Width: 3\n",
      "Perimeter: 16\n",
      "Area: 15\n",
      "Volume: 30\n"
     ]
    }
   ],
   "source": [
    "class Rectangle:\n",
    "    def __init__(self, length, width):\n",
    "        self.length = length\n",
    "        self.width = width\n",
    "    \n",
    "    def Perimeter(self):\n",
    "        return 2 * (self.length + self.width)\n",
    "    \n",
    "    def Area(self):\n",
    "        return self.length * self.width\n",
    "    \n",
    "    def display(self):\n",
    "        print(f\"Length: {self.length}, Width: {self.width}, Perimeter: {self.Perimeter()}, Area: {self.Area()}\")\n",
    "class Rectangle:\n",
    "    def __init__(self, length, width):\n",
    "        self.length = length\n",
    "        self.width = width\n",
    "    \n",
    "    def Perimeter(self):\n",
    "        return 2 * (self.length + self.width)\n",
    "    \n",
    "    def Area(self):\n",
    "        return self.length * self.width\n",
    "    \n",
    "    def display(self):\n",
    "        print(f\"Length: {self.length}\")\n",
    "        print(f\"Width: {self.width}\")\n",
    "        print(f\"Perimeter: {self.Perimeter()}\")\n",
    "        print(f\"Area: {self.Area()}\")\n",
    "        \n",
    "r = Rectangle(5, 3)\n",
    "r.display()\n",
    "\n",
    "p = Parallelepiped(5, 3, 2)\n",
    "p.display()\n",
    "\n",
    "\n",
    "\n",
    "print(f\"Volume: {p.Volume()}\")\n",
    "\n"
   ]
  },
  {
   "cell_type": "markdown",
   "id": "fc20857f",
   "metadata": {},
   "source": [
    "# QUESTION NO. 9"
   ]
  },
  {
   "cell_type": "code",
   "execution_count": null,
   "id": "7c229182",
   "metadata": {},
   "outputs": [],
   "source": [
    "9. Create a Python class called BankAccount which represents a bank \n",
    "account, having as attributes: accountNumber (numeric type), name \n",
    "(name of the account owner as string type), balance.\n",
    "\n",
    "a. Create a constructor with parameters: accountNumber, name, \n",
    "balance.\n",
    "\n",
    "b. Create a Deposit() method which manages the deposit actions.\n",
    "\n",
    "c. Create a Withdrawal() method which manages withdrawals \n",
    "actions.\n",
    "\n",
    "d. Create an bankFees() method to apply the bank fees with a \n",
    "percentage of 5% of the balance account.\n",
    "\n",
    "e. Create a display() method to display account details.\n",
    "\n",
    "f. Give the complete code for the BankAccount class"
   ]
  },
  {
   "cell_type": "code",
   "execution_count": 172,
   "id": "33896e76",
   "metadata": {},
   "outputs": [
    {
     "name": "stdout",
     "output_type": "stream",
     "text": [
      "Account Number: 123456\n",
      "Account Holder Name: Anila\n",
      "Account Balance: 5000\n",
      "Amount deposited: 1000\n",
      "Amount withdrawn: 2000\n",
      "Bank fees of 5% applied.\n",
      "Account Number: 123456\n",
      "Account Holder Name: Anila\n",
      "Account Balance: 3800.0\n"
     ]
    }
   ],
   "source": [
    "class BankAccount:\n",
    "    def __init__(self, accountNumber, name, balance):\n",
    "        self.accountNumber = accountNumber\n",
    "        self.name = name\n",
    "        self.balance = balance\n",
    "    \n",
    "    def Deposit(self, amount):\n",
    "        self.balance += amount\n",
    "        print(\"Amount deposited:\", amount)\n",
    "    \n",
    "    def Withdrawal(self, amount):\n",
    "        if self.balance >= amount:\n",
    "            self.balance -= amount\n",
    "            print(\"Amount withdrawn:\", amount)\n",
    "        else:\n",
    "            print(\"Insufficient balance.\")\n",
    "    \n",
    "    def bankFees(self):\n",
    "        self.balance -= self.balance * 0.05\n",
    "        print(\"Bank fees of 5% applied.\")\n",
    "    \n",
    "    def display(self):\n",
    "        print(\"Account Number:\", self.accountNumber)\n",
    "        print(\"Account Holder Name:\", self.name)\n",
    "        print(\"Account Balance:\", self.balance)\n",
    "# create an object of BankAccount\n",
    "account = BankAccount(123456,\"Anila\", 5000)\n",
    "\n",
    "# display account details\n",
    "account.display()\n",
    "\n",
    "# deposit some amount\n",
    "account.Deposit(1000)\n",
    "\n",
    "# withdraw some amount\n",
    "account.Withdrawal(2000)\n",
    "\n",
    "# apply bank fees\n",
    "account.bankFees()\n",
    "\n",
    "# display account details again\n",
    "account.display()\n",
    "\n"
   ]
  },
  {
   "cell_type": "markdown",
   "id": "8999012f",
   "metadata": {},
   "source": [
    "# QUESTION NO. 10"
   ]
  },
  {
   "cell_type": "code",
   "execution_count": null,
   "id": "973a8d02",
   "metadata": {},
   "outputs": [],
   "source": [
    "Create a base class rectangle with attributes length and breadth, methods \n",
    "area and perimeter.\n",
    "\n",
    "a. Save the rectangle class as a python file rectangle.py file.\n",
    "\n",
    "b. Open another python script and import the rectangle.py file.\n",
    "\n",
    "c. In the newly created script derive a child class called Parallelepiped \n",
    "class inheriting from the Rectangle class and with a height attribute \n",
    "and another Volume() method to calculate the volume of the \n",
    "Parallelepiped. \n",
    "\n",
    "d. Now create objects for parent class and child class in newly created \n",
    "script and access methods of parent class and child class. \n",
    "(Upload the rectangle.py file and python script of question 10 as \n",
    "separate files in github and share the link Paatshala\n",
    " "
   ]
  },
  {
   "cell_type": "code",
   "execution_count": 66,
   "id": "179c1c8e",
   "metadata": {},
   "outputs": [
    {
     "name": "stdout",
     "output_type": "stream",
     "text": [
      "12\n",
      "14\n",
      "12\n",
      "14\n",
      "60\n"
     ]
    }
   ],
   "source": [
    "class Rectangle:\n",
    "    def __init__(self, length, breadth):\n",
    "        self.length = length\n",
    "        self.breadth = breadth\n",
    "\n",
    "    def area(self):\n",
    "        return self.length * self.breadth\n",
    "\n",
    "    def perimeter(self):\n",
    "        return 2 * (self.length + self.breadth)\n",
    "        from rectangle import Rectangle\n",
    "\n",
    "class Parallelepiped(Rectangle):\n",
    "    def __init__(self, length, breadth, height):\n",
    "        super().__init__(length, breadth)\n",
    "        self.height = height\n",
    "\n",
    "    def volume(self):\n",
    "        return self.length * self.breadth * self.height\n",
    "\n",
    "# create objects for parent class and child class\n",
    "rectangle = Rectangle(3, 4)\n",
    "parallelepiped = Parallelepiped(3, 4, 5)\n",
    "\n",
    "# access methods of parent class\n",
    "print(rectangle.area())\n",
    "print(rectangle.perimeter())\n",
    "\n",
    "# access methods of child class\n",
    "print(parallelepiped.area())\n",
    "print(parallelepiped.perimeter())\n",
    "print(parallelepiped.volume())\n"
   ]
  },
  {
   "cell_type": "code",
   "execution_count": null,
   "id": "ef133c08",
   "metadata": {},
   "outputs": [],
   "source": [
    " "
   ]
  }
 ],
 "metadata": {
  "kernelspec": {
   "display_name": "Python 3 (ipykernel)",
   "language": "python",
   "name": "python3"
  },
  "language_info": {
   "codemirror_mode": {
    "name": "ipython",
    "version": 3
   },
   "file_extension": ".py",
   "mimetype": "text/x-python",
   "name": "python",
   "nbconvert_exporter": "python",
   "pygments_lexer": "ipython3",
   "version": "3.9.13"
  }
 },
 "nbformat": 4,
 "nbformat_minor": 5
}
