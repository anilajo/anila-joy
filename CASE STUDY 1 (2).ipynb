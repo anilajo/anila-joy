{
 "cells": [
  {
   "cell_type": "markdown",
   "id": "c99aef42",
   "metadata": {},
   "source": [
    "# QUESTION NUMBER 1"
   ]
  },
  {
   "cell_type": "markdown",
   "id": "5c102a55",
   "metadata": {},
   "source": [
    "A school has following rules for grading system:\n",
    "a. Below 25 - F\n",
    "b. 25 to 45 - E\n",
    "c. 45 to 50 - D\n",
    "d. 50 to 60 - C\n",
    "e. 60 to 80 - B\n",
    "f. Above 80 - A\n",
    "Ask user to enter marks and print the corresponding grade"
   ]
  },
  {
   "cell_type": "code",
   "execution_count": 20,
   "id": "747143a5",
   "metadata": {},
   "outputs": [
    {
     "name": "stdout",
     "output_type": "stream",
     "text": [
      "enter marks\n",
      "86\n",
      "A\n",
      "\n"
     ]
    }
   ],
   "source": [
    "print ('enter marks')\n",
    "marks = int(input())\n",
    "if marks<25:\n",
    "    print (input('F'))\n",
    "elif marks>=25 and marks<45:\n",
    "        print (input('E')) \n",
    "elif marks>=45 and marks<50:\n",
    "       print (input('D'))\n",
    "elif marks>=50 and marks<60:\n",
    "       print (input('C'))\n",
    "elif marks>=60 and marks<80:\n",
    "       print (input('B'))\n",
    "else:\n",
    "       print (input('A'))"
   ]
  },
  {
   "cell_type": "markdown",
   "id": "689f163a",
   "metadata": {},
   "source": [
    "# QUESTION NUMBER 2\n"
   ]
  },
  {
   "cell_type": "markdown",
   "id": "4703b846",
   "metadata": {},
   "source": [
    "You have a list of names. Create a new list which contains only the names \n",
    "with non-repeating characters. \n",
    "Sample input = [‘John’,’Peter’,’Meera’,’Mini’,’Krishna’]\n",
    "Sample output = [‘John’,Krishna]"
   ]
  },
  {
   "cell_type": "code",
   "execution_count": 94,
   "id": "7fa91d48",
   "metadata": {},
   "outputs": [
    {
     "name": "stdout",
     "output_type": "stream",
     "text": [
      "['john']\n",
      "['john', 'krishna']\n"
     ]
    }
   ],
   "source": [
    "names = ['john','peter','meera','mini','krishna']\n",
    "result=[]\n",
    "for name in names:\n",
    "    if len(set(name)) ==len(name):\n",
    "        result.append(name)\n",
    "        print(result)\n",
    "    \n"
   ]
  },
  {
   "cell_type": "markdown",
   "id": "e7912a43",
   "metadata": {},
   "source": [
    "# QUESTION NUMBER 3\n"
   ]
  },
  {
   "cell_type": "markdown",
   "id": "ce3c71f1",
   "metadata": {},
   "source": [
    "Take values of length and breadth of a rectangle from user and check if it \n",
    "is square or not.\n"
   ]
  },
  {
   "cell_type": "code",
   "execution_count": 32,
   "id": "f01ce702",
   "metadata": {},
   "outputs": [
    {
     "name": "stdout",
     "output_type": "stream",
     "text": [
      "enter length\n",
      "5\n",
      "enter breadth\n",
      "6\n",
      "no, it is only rectangle\n"
     ]
    }
   ],
   "source": [
    "print('enter length')\n",
    "length = input()\n",
    "print('enter breadth')\n",
    "breadth = input()\n",
    "if length ==breadth:\n",
    "    print ('yes,it is square ')\n",
    "else:\n",
    "    print('no, it is only rectangle')\n",
    " "
   ]
  },
  {
   "cell_type": "markdown",
   "id": "6f21d035",
   "metadata": {},
   "source": [
    "# QUESTION NUMBER 4\n"
   ]
  },
  {
   "cell_type": "markdown",
   "id": "b3649728",
   "metadata": {},
   "source": [
    " A student will not be allowed to sit in exam if his/her attendance is less \n",
    "than 75%. Take following input from user Number of classes held \n",
    "Number of classes attended. And print percentage of class attended Is \n",
    "student is allowed to sit in exam or not"
   ]
  },
  {
   "cell_type": "code",
   "execution_count": 82,
   "id": "3be690ed",
   "metadata": {},
   "outputs": [
    {
     "name": "stdout",
     "output_type": "stream",
     "text": [
      "enter total number of classes held in the school:50\n",
      "enter total number of classes attend by astudent:50\n",
      "you can sit in the exam\n"
     ]
    }
   ],
   "source": [
    "totalclassesheld = eval(input('enter total number of classes held in the school:'))\n",
    "totalclassesattend =eval(input('en ter total number of classes attend by astudent:'))\n",
    "percent = (totalclassesattend / totalclassesheld)*100\n",
    "if percent < 75:\n",
    "    print('you cannot sit in the exam ')\n",
    "else:print('you can sit in the exam')"
   ]
  },
  {
   "cell_type": "markdown",
   "id": "d7a5821c",
   "metadata": {},
   "source": [
    "# QUESTION NUMBER 5\n"
   ]
  },
  {
   "cell_type": "markdown",
   "id": "c8f1cc6d",
   "metadata": {},
   "source": [
    "#(Create a list by taking length of the list and elements of the list from user. \n",
    "Then find the sum of the elements of the list. Also create a new called even \n",
    "list which contains only even numbers from first list and odd list which \n",
    "contains odd numbers from the list. \n",
    "Sample input:\n",
    "Length of the list = 5\n",
    "List1 = [2,6,3,1,5]\n",
    "Sum = 17\n",
    "Even_list=[2,6]\n",
    "Odd_list=[3,1,5\n"
   ]
  },
  {
   "cell_type": "code",
   "execution_count": 33,
   "id": "f76e15e4",
   "metadata": {},
   "outputs": [
    {
     "name": "stdout",
     "output_type": "stream",
     "text": [
      "enter the length of the list5\n",
      "enter element12\n",
      "sum of element: 2\n",
      "even list: [2]\n",
      "odd list []\n",
      "enter element26\n",
      "sum of element: 8\n",
      "even list: [2, 6]\n",
      "odd list []\n",
      "enter element33\n",
      "sum of element: 11\n",
      "even list: [2, 6]\n",
      "odd list [3]\n",
      "enter element41\n",
      "sum of element: 12\n",
      "even list: [2, 6]\n",
      "odd list [3, 1]\n",
      "enter element55\n",
      "sum of element: 17\n",
      "even list: [2, 6]\n",
      "odd list [3, 1, 5]\n"
     ]
    }
   ],
   "source": [
    "length = int(input('enter the length of the list'))\n",
    "list1 =[]\n",
    "for i in range(length):\n",
    "    list1.append(int(input('enter element'+str(i+1))))\n",
    "    sum_of_elements= sum(list1)\n",
    "    print('sum of element:',sum_of_elements)\n",
    "    even_list =[x for x in list1 if x % 2== 0]\n",
    "    odd_list =[x for x in list1  if x % 2!=0]\n",
    "    print ('even list:',even_list)\n",
    "    print('odd list',odd_list)"
   ]
  },
  {
   "cell_type": "markdown",
   "id": "50809233",
   "metadata": {},
   "source": [
    "# QUESTION NUMBER 6\n"
   ]
  },
  {
   "cell_type": "markdown",
   "id": "74437125",
   "metadata": {},
   "source": [
    "6. Create a  sample chatbot for an ecommerce website.\n"
   ]
  },
  {
   "cell_type": "code",
   "execution_count": 95,
   "id": "1668681e",
   "metadata": {},
   "outputs": [
    {
     "name": "stdout",
     "output_type": "stream",
     "text": [
      "welcome to our Ecommerce Website\n",
      "how can i help you today ?details about products\n",
      "we have a wide range of products invarious categories.Please specify which category you are interested in.\n"
     ]
    }
   ],
   "source": [
    "print ('welcome to our Ecommerce Website')\n",
    "while True:\n",
    "    user_input= input('how can i help you today ?')\n",
    "    if 'products'in user_input.lower()or 'catalog'in user_input.lower():\n",
    "         print('we have a wide range of products invarious categories.Please specify which category you are interested in.')\n",
    "    elif 'price'in user_inputlower()or\"coast\"in user_input.lower():\n",
    "        print('the price of our products depends on the specific product and the current market conditions .Can you please specify which product you are interested in')\n",
    "    elif\"order\" in user_input.lower()or'purchase'in user_input.lower():\n",
    "        print('sure, i can help you place an order.Can you please provide the p4oduct details and your shiping information ?')\n",
    "    elif 'bye'in user_input.lower() or'exit' in  user_input.lower():\n",
    "        print('thank you for visit our website.Have agreat day!')\n",
    "    break\n",
    "else: \n",
    "    print('I am  sorry, i did not understand your request. Can you please rephrase or provide more information?')"
   ]
  },
  {
   "cell_type": "markdown",
   "id": "670c15cc",
   "metadata": {},
   "source": [
    "# QUESTION NUMBER 7\n",
    "\n"
   ]
  },
  {
   "cell_type": "markdown",
   "id": "5f9216c1",
   "metadata": {},
   "source": [
    "7. Write a program to find the roots of a quadratic equation.\n",
    "Get the co\u0002efficients of quadratic equation ax^2+bx+c and display whether the roots \n",
    "are real and equal or real and distinct or roots are imaginary. You have to \n",
    "find the roots and display it as well."
   ]
  },
  {
   "cell_type": "code",
   "execution_count": 1,
   "id": "8dbc0001",
   "metadata": {},
   "outputs": [
    {
     "name": "stdout",
     "output_type": "stream",
     "text": [
      "quadratic function:(a*x^2)+b*x+ c\n",
      "a:4\n",
      "b:5\n",
      "c:5\n",
      "no realroots,roots are imaginary\n",
      "the soloution from the equation (4.000000x^2)+5.000000x + 5.000000 = 0\n"
     ]
    }
   ],
   "source": [
    "import math\n",
    "print('quadratic function:(a*x^2)+b*x+ c')\n",
    "a = float(input('a:'))\n",
    "b = float(input('b:'))\n",
    "c = float(input('c:'))\n",
    "r = b**2-4*a*c\n",
    "if r >0:\n",
    "    num_roots = 2\n",
    "    x1 =(((-b)+math.sqrt(r))/(2*a))\n",
    "    x2 =(((-b)-math.sqrt(r))/(2*a))\n",
    "    print('there are 2 real root:',x)\n",
    "else:\n",
    "        num_roots = 0\n",
    "        print('no realroots,roots are imaginary')\n",
    "        exit()\n",
    "        equation = \"(%fx^2)+%fx + %f = 0\"%(a,b,c)\n",
    "        print('the soloution from the equation',equation)"
   ]
  },
  {
   "cell_type": "markdown",
   "id": "60e6a2f9",
   "metadata": {},
   "source": [
    "# QUESTION NUMBER 8\n",
    " "
   ]
  },
  {
   "cell_type": "code",
   "execution_count": null,
   "id": "dec9bc81",
   "metadata": {},
   "outputs": [],
   "source": [
    "Given a range of first 10 numbers, write a Python program to iterate from \n",
    "start number to the end number and print the sum of the current number \n",
    "and previous number. \n",
    "Sample input: 1….10 \n",
    "Sample output: Current Number 1 Previous Number 0 Sum: 1\n",
    "Current Number 2 Previous Number 1 Sum: 3 \n",
    "Current Number 3 Previous Number 2 Sum: 5… \n",
    "…….\n",
    "Current Number 10 Previous Number 9 Sum: 19"
   ]
  },
  {
   "cell_type": "code",
   "execution_count": 81,
   "id": "1b705670",
   "metadata": {},
   "outputs": [
    {
     "name": "stdout",
     "output_type": "stream",
     "text": [
      " current number  1 previous number 1 sum: 2\n",
      " current number  2 previous number 1 sum: 3\n",
      " current number  3 previous number 1 sum: 4\n",
      " current number  4 previous number 1 sum: 5\n",
      " current number  5 previous number 1 sum: 6\n",
      " current number  6 previous number 1 sum: 7\n",
      " current number  7 previous number 1 sum: 8\n",
      " current number  8 previous number 1 sum: 9\n",
      " current number  9 previous number 1 sum: 10\n",
      " current number  10 previous number 1 sum: 11\n"
     ]
    }
   ],
   "source": [
    "start = 1\n",
    "end = 10\n",
    "prev = +1\n",
    "for i in range(start,end+1):\n",
    "    sum = prev + i\n",
    "    print(\" current number \", i, \"previous number\",prev,\"sum:\",sum)\n",
    "      "
   ]
  },
  {
   "cell_type": "markdown",
   "id": "2b2a18f4",
   "metadata": {},
   "source": [
    " # QUESTION NUMBER 9"
   ]
  },
  {
   "cell_type": "markdown",
   "id": "ab0a2b59",
   "metadata": {},
   "source": [
    " Write a Python program to find the prime numbers in a given range. Get \n",
    "the range from user and print prime numbers in that range."
   ]
  },
  {
   "cell_type": "code",
   "execution_count": 19,
   "id": "d9fc4197",
   "metadata": {},
   "outputs": [
    {
     "name": "stdout",
     "output_type": "stream",
     "text": [
      "enter the start of the range:2\n",
      "enter the end of the range:1\n",
      "prime number in the given range are:\n"
     ]
    }
   ],
   "source": [
    "start = int(input('enter the start of the range:'))\n",
    "end = int(input('enter the end of the range:'))\n",
    "print('prime number in the given range are:')\n",
    "for num in range(start,end +1):\n",
    "    if(num % 1) ==0:\n",
    "        break\n",
    "    else:\n",
    "            print(num)"
   ]
  },
  {
   "cell_type": "markdown",
   "id": "d0725895",
   "metadata": {},
   "source": [
    "# QUESTION NUMBER 10"
   ]
  },
  {
   "cell_type": "markdown",
   "id": "5d77c432",
   "metadata": {},
   "source": [
    ". Write a Python program to print Fibonacci series in a given range. Get \n",
    "the range from user and print prime numbers in that range "
   ]
  },
  {
   "cell_type": "code",
   "execution_count": 66,
   "id": "b08a36ae",
   "metadata": {},
   "outputs": [
    {
     "name": "stdout",
     "output_type": "stream",
     "text": [
      "enter the start of the range:5\n",
      "enter the end of the range:2\n",
      "fibonacci series in the given range:\n"
     ]
    }
   ],
   "source": [
    "start = int(input('enter the start of the range:'))\n",
    "end = int(input('enter the end of the range:'))\n",
    "def fibonacci(n):\n",
    "    if n <= 0:\n",
    "        return 0\n",
    "    \n",
    "    elif n==1:\n",
    "        return 1\n",
    "    else: \n",
    "        return fibonacci(n-1) + fibonacci(n-2) \n",
    "print('fibonacci series in the given range:')\n",
    "for i in range(start,end):\n",
    "             print(fibonacci(i),end=',')"
   ]
  },
  {
   "cell_type": "code",
   "execution_count": null,
   "id": "e9ced811",
   "metadata": {},
   "outputs": [],
   "source": []
  }
 ],
 "metadata": {
  "kernelspec": {
   "display_name": "Python 3 (ipykernel)",
   "language": "python",
   "name": "python3"
  },
  "language_info": {
   "codemirror_mode": {
    "name": "ipython",
    "version": 3
   },
   "file_extension": ".py",
   "mimetype": "text/x-python",
   "name": "python",
   "nbconvert_exporter": "python",
   "pygments_lexer": "ipython3",
   "version": "3.9.13"
  }
 },
 "nbformat": 4,
 "nbformat_minor": 5
}
